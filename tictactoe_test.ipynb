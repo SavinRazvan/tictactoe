{
 "cells": [
  {
   "cell_type": "code",
   "execution_count": 1,
   "metadata": {},
   "outputs": [
    {
     "name": "stdout",
     "output_type": "stream",
     "text": [
      "After 100 games:\n",
      "X win rate: 0.00%\n",
      "O win rate: 0.00%\n",
      "Tie rate: 100.00%\n"
     ]
    }
   ],
   "source": [
    "import tictactoe as ttt\n",
    "\n",
    "def simulate_games(num_games):\n",
    "    \"\"\"\n",
    "    Simulates a number of Tic Tac Toe games and calculates the win rate for X and O.\n",
    "    \"\"\"\n",
    "    x_wins = 0\n",
    "    o_wins = 0\n",
    "    ties = 0\n",
    "\n",
    "    for _ in range(num_games):\n",
    "        board = ttt.initial_state()\n",
    "\n",
    "        while not ttt.terminal(board):\n",
    "            move = ttt.minimax(board)\n",
    "            board = ttt.result(board, move)\n",
    "\n",
    "        winner_player = ttt.winner(board)\n",
    "        if winner_player == ttt.X:\n",
    "            x_wins += 1\n",
    "        elif winner_player == ttt.O:\n",
    "            o_wins += 1\n",
    "        else:\n",
    "            ties += 1\n",
    "\n",
    "    x_win_rate = (x_wins / num_games) * 100\n",
    "    o_win_rate = (o_wins / num_games) * 100\n",
    "    tie_rate = (ties / num_games) * 100\n",
    "\n",
    "    return x_win_rate, o_win_rate, tie_rate\n",
    "\n",
    "\n",
    "if __name__ == \"__main__\":\n",
    "    num_games = 100  # Number of games to simulate\n",
    "    x_win_rate, o_win_rate, tie_rate = simulate_games(num_games)\n",
    "    print(f\"After {num_games} games:\")\n",
    "    print(f\"X win rate: {x_win_rate:.2f}%\")\n",
    "    print(f\"O win rate: {o_win_rate:.2f}%\")\n",
    "    print(f\"Tie rate: {tie_rate:.2f}%\")\n"
   ]
  },
  {
   "cell_type": "markdown",
   "metadata": {},
   "source": [
    "If the simulation results in a tie for every game, it indicates that both players are playing optimally and thus always tie, which is expected with the Minimax algorithm in Tic-Tac-Toe. \n",
    "- A normal player, who does not use optimal strategies consistently, would have no chance of winning against an AI using the Minimax algorithm.\n",
    "- This demonstrates the strength of the Minimax strategy in ensuring that it never loses, thereby highlighting its effectiveness in creating an unbeatable AI for Tic-Tac-Toe."
   ]
  }
 ],
 "metadata": {
  "kernelspec": {
   "display_name": ".conda",
   "language": "python",
   "name": "python3"
  },
  "language_info": {
   "codemirror_mode": {
    "name": "ipython",
    "version": 3
   },
   "file_extension": ".py",
   "mimetype": "text/x-python",
   "name": "python",
   "nbconvert_exporter": "python",
   "pygments_lexer": "ipython3",
   "version": "3.12.4"
  }
 },
 "nbformat": 4,
 "nbformat_minor": 2
}
